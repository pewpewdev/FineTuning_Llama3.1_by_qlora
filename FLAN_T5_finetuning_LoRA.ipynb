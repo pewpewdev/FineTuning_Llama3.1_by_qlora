{
 "cells": [
  {
   "cell_type": "markdown",
   "metadata": {
    "id": "-knib2KqzcEa"
   },
   "source": [
    "# Dialogue Summarization Fine-Tuning"
   ]
  },
  {
   "cell_type": "markdown",
   "metadata": {
    "id": "m3WTDKkBL67H"
   },
   "source": [
    "Checking GPU availability"
   ]
  },
  {
   "cell_type": "code",
   "execution_count": 72,
   "metadata": {
    "colab": {
     "base_uri": "https://localhost:8080/"
    },
    "executionInfo": {
     "elapsed": 453,
     "status": "ok",
     "timestamp": 1718160835634,
     "user": {
      "displayName": "Ken Constable",
      "userId": "07550562182491091576"
     },
     "user_tz": 240
    },
    "id": "i0O-zDKFn0ya",
    "outputId": "cd48d2ba-47d1-42ff-da84-bbb7af2221d0"
   },
   "outputs": [
    {
     "name": "stdout",
     "output_type": "stream",
     "text": [
      "Wed Jun 12 02:53:55 2024       \n",
      "+---------------------------------------------------------------------------------------+\n",
      "| NVIDIA-SMI 535.104.05             Driver Version: 535.104.05   CUDA Version: 12.2     |\n",
      "|-----------------------------------------+----------------------+----------------------+\n",
      "| GPU  Name                 Persistence-M | Bus-Id        Disp.A | Volatile Uncorr. ECC |\n",
      "| Fan  Temp   Perf          Pwr:Usage/Cap |         Memory-Usage | GPU-Util  Compute M. |\n",
      "|                                         |                      |               MIG M. |\n",
      "|=========================================+======================+======================|\n",
      "|   0  Tesla T4                       Off | 00000000:00:04.0 Off |                    0 |\n",
      "| N/A   74C    P0              31W /  70W |   2455MiB / 15360MiB |      0%      Default |\n",
      "|                                         |                      |                  N/A |\n",
      "+-----------------------------------------+----------------------+----------------------+\n",
      "                                                                                         \n",
      "+---------------------------------------------------------------------------------------+\n",
      "| Processes:                                                                            |\n",
      "|  GPU   GI   CI        PID   Type   Process name                            GPU Memory |\n",
      "|        ID   ID                                                             Usage      |\n",
      "|=======================================================================================|\n",
      "+---------------------------------------------------------------------------------------+\n"
     ]
    }
   ],
   "source": [
    "gpu_info = !nvidia-smi\n",
    "gpu_info = '\\n'.join(gpu_info)\n",
    "if gpu_info.find('failed') >= 0:\n",
    "  print('Not connected to a GPU')\n",
    "else:\n",
    "  print(gpu_info)"
   ]
  },
  {
   "cell_type": "markdown",
   "metadata": {
    "id": "BNc2M2PiT4_T"
   },
   "source": [
    "### Install Libraries\n",
    "+ hugging face\n",
    "+ PyTorch\n",
    "+ Standard Python data science libraries"
   ]
  },
  {
   "cell_type": "code",
   "execution_count": null,
   "metadata": {
    "id": "FadF0CA7ivau"
   },
   "outputs": [],
   "source": [
    "%pip install transformers datasets evaluate accelerate pipeline bitsandbytes\n",
    "%pip install torch torchdata\n",
    "%pip install peft\n",
    "%pip install loralib\n",
    "%pip install bert_score\n",
    "%pip install rouge_score\n",
    "%pip install huggingface_hub"
   ]
  },
  {
   "cell_type": "code",
   "execution_count": 3,
   "metadata": {
    "executionInfo": {
     "elapsed": 9891,
     "status": "ok",
     "timestamp": 1718157097349,
     "user": {
      "displayName": "Ken Constable",
      "userId": "07550562182491091576"
     },
     "user_tz": 240
    },
    "id": "edwnrK-Vj0kv"
   },
   "outputs": [],
   "source": [
    "import pandas as pd\n",
    "import numpy as np\n",
    "import json\n",
    "import random\n",
    "import seaborn as sns\n",
    "import matplotlib.pyplot as plt\n",
    "from datetime import date\n",
    "from datasets import load_dataset\n",
    "from transformers import (\n",
    "    AutoTokenizer,\n",
    "    AutoModelForSeq2SeqLM,\n",
    "    AutoModelForCausalLM,\n",
    "    GenerationConfig,\n",
    "    TrainingArguments,\n",
    "    Trainer,\n",
    "    pipeline,\n",
    "    BitsAndBytesConfig\n",
    ")\n",
    "import torch\n",
    "import evaluate\n",
    "from peft import (\n",
    "    LoraConfig,\n",
    "    get_peft_model,\n",
    "    TaskType,\n",
    "    PeftModel,\n",
    "    PeftConfig,\n",
    ")\n",
    "from huggingface_hub import login"
   ]
  },
  {
   "cell_type": "markdown",
   "metadata": {
    "id": "f_ifHfARmcYg"
   },
   "source": [
    "### HuggingFace Authentication\n",
    "+ Authenticate to pull models and datasets (read token required)\n",
    "+ Authenticate to push models to hugging face hub (write token required)\n",
    "\n"
   ]
  },
  {
   "cell_type": "code",
   "execution_count": null,
   "metadata": {
    "id": "UNYkdQnumI57"
   },
   "outputs": [],
   "source": [
    "login()"
   ]
  },
  {
   "cell_type": "markdown",
   "metadata": {
    "id": "vYI26pCHUMNM"
   },
   "source": [
    "### Notebook Config\n",
    "+ Define some useful constants\n",
    "+ Device (CPU or CUDA for distributed environments)\n",
    "+ Model Paths (saving model checkpoints)\n",
    "+ Setting a template for seaborn plotting"
   ]
  },
  {
   "cell_type": "code",
   "execution_count": 73,
   "metadata": {
    "colab": {
     "base_uri": "https://localhost:8080/"
    },
    "executionInfo": {
     "elapsed": 324,
     "status": "ok",
     "timestamp": 1718160850188,
     "user": {
      "displayName": "Ken Constable",
      "userId": "07550562182491091576"
     },
     "user_tz": 240
    },
    "id": "00VSWiobj3BM",
    "outputId": "76a022ef-cf8d-462e-d3b9-b0f286d3f9b9"
   },
   "outputs": [
    {
     "data": {
      "text/plain": [
       "device(type='cuda')"
      ]
     },
     "execution_count": 73,
     "metadata": {},
     "output_type": "execute_result"
    }
   ],
   "source": [
    "# training directory\n",
    "MNAME = 'Dialogue'\n",
    "DIR_TRAIN = f\"/content/drive/MyDrive/Colab Notebooks/fine-tuning-llm/{MNAME}/peft/train/\"\n",
    "DIR_MODEL = f\"/content/drive/MyDrive/Colab Notebooks/fine-tuning-llm/{MNAME}/peft/models/\"\n",
    "DIR_EVAL = f\"/content/drive/MyDrive/Colab Notebooks/fine-tuning-llm/{MNAME}/\"\n",
    "\n",
    "DEVICE = torch.device(\"cuda\" if torch.cuda.is_available() else \"cpu\")\n",
    "DEVICE"
   ]
  },
  {
   "cell_type": "code",
   "execution_count": 6,
   "metadata": {
    "colab": {
     "base_uri": "https://localhost:8080/",
     "height": 77
    },
    "executionInfo": {
     "elapsed": 402,
     "status": "ok",
     "timestamp": 1718157319681,
     "user": {
      "displayName": "Ken Constable",
      "userId": "07550562182491091576"
     },
     "user_tz": 240
    },
    "id": "mgANgkta7DFS",
    "outputId": "e2ac5163-b647-475c-e152-6be0b41178a0"
   },
   "outputs": [
    {
     "data": {
      "text/html": [
       "<svg  width=\"385\" height=\"55\"><rect x=\"0\" y=\"0\" width=\"55\" height=\"55\" style=\"fill:#53808d;stroke-width:2;stroke:rgb(255,255,255)\"/><rect x=\"55\" y=\"0\" width=\"55\" height=\"55\" style=\"fill:#fc4c02;stroke-width:2;stroke:rgb(255,255,255)\"/><rect x=\"110\" y=\"0\" width=\"55\" height=\"55\" style=\"fill:#1b99d6;stroke-width:2;stroke:rgb(255,255,255)\"/><rect x=\"165\" y=\"0\" width=\"55\" height=\"55\" style=\"fill:#fff57b;stroke-width:2;stroke:rgb(255,255,255)\"/><rect x=\"220\" y=\"0\" width=\"55\" height=\"55\" style=\"fill:#585858;stroke-width:2;stroke:rgb(255,255,255)\"/><rect x=\"275\" y=\"0\" width=\"55\" height=\"55\" style=\"fill:#d5dadd;stroke-width:2;stroke:rgb(255,255,255)\"/><rect x=\"330\" y=\"0\" width=\"55\" height=\"55\" style=\"fill:#e9f2ef;stroke-width:2;stroke:rgb(255,255,255)\"/></svg>"
      ],
      "text/plain": [
       "[(0.3254901960784314, 0.5019607843137255, 0.5529411764705883),\n",
       " (0.9882352941176471, 0.2980392156862745, 0.00784313725490196),\n",
       " (0.10588235294117647, 0.6, 0.8392156862745098),\n",
       " (1.0, 0.9607843137254902, 0.4823529411764706),\n",
       " (0.34509803921568627, 0.34509803921568627, 0.34509803921568627),\n",
       " (0.8352941176470589, 0.8549019607843137, 0.8666666666666667),\n",
       " (0.9137254901960784, 0.9490196078431372, 0.9372549019607843)]"
      ]
     },
     "execution_count": 6,
     "metadata": {},
     "output_type": "execute_result"
    }
   ],
   "source": [
    "# Color Palettes\n",
    "colors = {\n",
    "    \"sage\"     : \"#53808D\",\n",
    "    \"orange\"   : \"#FC4C02\",\n",
    "    \"blue\"     : \"#1B99D6\",\n",
    "    \"yellow\"   : \"#FFF57B\",\n",
    "    \"darkgrey\" : \"#585858\",\n",
    "    \"lightgrey\": \"#D5DADD\",\n",
    "    \"lightsage\": '#E9F2EF'\n",
    "}\n",
    "palette_discete = sns.color_palette([v for k,v in colors.items()])\n",
    "palette_continuous = sns.color_palette(f\"blend:{colors['sage']},{colors['orange']}\", as_cmap=True)\n",
    "\n",
    "# custom theme\n",
    "rc = {\n",
    "    'axes.facecolor':f\"{colors['lightsage']}\",\n",
    "    \"axes.edgecolor\":f\"{colors['sage']}\",\n",
    "    \"text.color\":f\"{colors['sage']}\",\n",
    "    \"axes.labelcolor\":f\"{colors['sage']}\",\n",
    "    \"ytick.color\":f\"{colors['sage']}\",\n",
    "    \"xtick.color\":f\"{colors['sage']}\",\n",
    "}\n",
    "sns.set_style('whitegrid',rc =rc)\n",
    "\n",
    "# set context elements\n",
    "sns.set_context('notebook',rc={'grid.linewidth':'1.1'})\n",
    "\n",
    "# set custom palette\n",
    "sns.set_palette(palette_discete)\n",
    "\n",
    "palette_discete"
   ]
  },
  {
   "cell_type": "markdown",
   "metadata": {
    "id": "VruX4E51oH1-"
   },
   "source": [
    "## FLAN-T5\n",
    "+ Fine-Tuned-Language-Net [FLAN-T5](https://huggingface.co/docs/transformers/en/model_doc/flan-t5)\n",
    "+ An encoder-decoder model developed by Google\n",
    "+ The base model has been fine-tuned on various tasks\n",
    "+ The [FLAN-T5 base variant]((https://huggingface.co/google/flan-t5-base)) was selected for fine-tuning on text summarization tasks\n",
    "\n",
    "#### Why FLAN-T5\n",
    "+ It's a small but powerful LLM\n",
    "+ Performance is [comparable to larger LLMs](https://www.graphcore.ai/posts/flan-t5-sweet-results-with-the-smaller-more-efficient-llm) on many tasks\n",
    "+ One of the easier models to implement and fine-tune with many examples available. An ideal model to learn from\n",
    "+ Use cases include text classification, text summarization, translation and question-answering"
   ]
  },
  {
   "cell_type": "markdown",
   "metadata": {
    "id": "f64C1QqxUVBf"
   },
   "source": [
    "### Fine Tuning Dataset: DialogSum\n",
    "\n",
    "+ [DialogSum](https://huggingface.co/datasets/stanfordnlp/imdb)\n",
    "+ The dataset consists of conversations(dialogue) and a human generated summary (summary)\n",
    "+ The authors provided the training splits: train(12.5k), Test(1.5k), Validate (500)\n"
   ]
  },
  {
   "cell_type": "code",
   "execution_count": 8,
   "metadata": {
    "colab": {
     "base_uri": "https://localhost:8080/"
    },
    "executionInfo": {
     "elapsed": 5732,
     "status": "ok",
     "timestamp": 1718157351201,
     "user": {
      "displayName": "Ken Constable",
      "userId": "07550562182491091576"
     },
     "user_tz": 240
    },
    "id": "q8qFDLfNj7-Z",
    "outputId": "17e79484-43fe-4192-bbcb-d0fc45c60b36"
   },
   "outputs": [
    {
     "data": {
      "text/plain": [
       "DatasetDict({\n",
       "    train: Dataset({\n",
       "        features: ['id', 'dialogue', 'summary', 'topic'],\n",
       "        num_rows: 12460\n",
       "    })\n",
       "    validation: Dataset({\n",
       "        features: ['id', 'dialogue', 'summary', 'topic'],\n",
       "        num_rows: 500\n",
       "    })\n",
       "    test: Dataset({\n",
       "        features: ['id', 'dialogue', 'summary', 'topic'],\n",
       "        num_rows: 1500\n",
       "    })\n",
       "})"
      ]
     },
     "execution_count": 8,
     "metadata": {},
     "output_type": "execute_result"
    }
   ],
   "source": [
    "# dialouge summary dataset\n",
    "data_dialogsum = load_dataset('knkarthick/dialogsum')\n",
    "data_dialogsum"
   ]
  },
  {
   "cell_type": "markdown",
   "metadata": {
    "id": "RpH2dsTiUZJl"
   },
   "source": [
    "### Base Model: FLAN-T5 base\n",
    "+ The FLAN-T5 base model was fine-tuned using the DialogSum dataset to improve dialoge summarization tasks\n",
    "+ Source: HuggingFace\n",
    "+ Implementation: HuggingFace, Torch\n",
    "+ Steps:\n",
    " + Download the pre-trained model\n",
    " + Create a tokenizer\n",
    " + Define the base model (for fine-tuning)\n",
    " + Define the original model (for evaluation)\n",
    " + Move the models to the DEVICE (cpu, cuda)"
   ]
  },
  {
   "cell_type": "code",
   "execution_count": 74,
   "metadata": {
    "executionInfo": {
     "elapsed": 2795,
     "status": "ok",
     "timestamp": 1718160863305,
     "user": {
      "displayName": "Ken Constable",
      "userId": "07550562182491091576"
     },
     "user_tz": 240
    },
    "id": "H_IjU6uvj-Xg"
   },
   "outputs": [],
   "source": [
    "# FLANT5 Base Model\n",
    "base_model_name = 'google/flan-t5-base'\n",
    "tokenizer = AutoTokenizer.from_pretrained(base_model_name)\n",
    "\n",
    "# base model for training\n",
    "base_model = AutoModelForSeq2SeqLM.from_pretrained(base_model_name, torch_dtype=torch.bfloat16, device_map='auto')\n",
    "\n",
    "# original model for evaluation\n",
    "original_model = AutoModelForSeq2SeqLM.from_pretrained(base_model_name, torch_dtype=torch.bfloat16, device_map='auto')\n"
   ]
  },
  {
   "cell_type": "markdown",
   "metadata": {
    "id": "PEeP0ua4NJtd"
   },
   "source": [
    "### Prompt Engineering & Generation\n",
    "+ Several convenience functions were developed to assist with standardizing prompts and generating summaries\n",
    "+ get_prompt: format a T5 prompt\n",
    "+ get_response: encode the response, generate a summary & decode the response\n",
    "+ print_summary: print the document, human summary and generated summary for an example\n",
    "+ generate_summaries: Generate summaries for a list of examples in the dataset"
   ]
  },
  {
   "cell_type": "code",
   "execution_count": 61,
   "metadata": {
    "executionInfo": {
     "elapsed": 444,
     "status": "ok",
     "timestamp": 1718160690330,
     "user": {
      "displayName": "Ken Constable",
      "userId": "07550562182491091576"
     },
     "user_tz": 240
    },
    "id": "6o9hCvY3kAnS"
   },
   "outputs": [],
   "source": [
    "def get_prompt(dialogue):\n",
    "    \"\"\"Format prompts for text summarization using FLAN-T5 models\"\"\"\n",
    "\n",
    "    # T5 models require the 'summarize' keyword generate text summaries\n",
    "    prompt = \"Summarize the following conversation:\\n\\n\"\n",
    "    prompt += f\"{dialogue}\"\n",
    "    prompt += \"\\n\\n Summary:\"\n",
    "    return prompt"
   ]
  },
  {
   "cell_type": "code",
   "execution_count": 62,
   "metadata": {
    "executionInfo": {
     "elapsed": 3,
     "status": "ok",
     "timestamp": 1718160692386,
     "user": {
      "displayName": "Ken Constable",
      "userId": "07550562182491091576"
     },
     "user_tz": 240
    },
    "id": "PHCL639DKoa1"
   },
   "outputs": [],
   "source": [
    "def get_response(prompt, model, tokenizer):\n",
    "  \"\"\" Generate a text summary from the prompt \"\"\"\n",
    "\n",
    "  # tokenize the prompt\n",
    "  encoded_input = tokenizer(prompt, return_tensors=\"pt\", add_special_tokens=False)\n",
    "  model_inputs = encoded_input.to(DEVICE)\n",
    "\n",
    "  # generate the response\n",
    "  generated_ids = model.generate(\n",
    "      **model_inputs,\n",
    "      max_new_tokens=200,\n",
    "      )\n",
    "\n",
    "  # decode the response back to text\n",
    "  decoded_output = tokenizer.batch_decode(generated_ids,skip_special_tokens=True)[0]\n",
    "\n",
    "  return decoded_output"
   ]
  },
  {
   "cell_type": "code",
   "execution_count": 63,
   "metadata": {
    "executionInfo": {
     "elapsed": 5,
     "status": "ok",
     "timestamp": 1718160695570,
     "user": {
      "displayName": "Ken Constable",
      "userId": "07550562182491091576"
     },
     "user_tz": 240
    },
    "id": "5btIsoT-NhCS"
   },
   "outputs": [],
   "source": [
    "def print_example(summary,dialogue ):\n",
    "  \"\"\"\n",
    "  Print the original dialogue, the human summary and\n",
    "  the generated summary\n",
    "   \"\"\"\n",
    "  # print the summaries\n",
    "  print(f\"Dialogue:{summary['index']}\")\n",
    "  print(\"=\"*100)\n",
    "  print(dialogue)\n",
    "  print(\"\\nHuman Summary\",'-'*88)\n",
    "  print(summary['human'],'\\n')\n",
    "  print(\"GenAI Summary\",'-'*88)\n",
    "  print(summary['genai'])\n",
    "  print(\"=\"*100,'\\n')\n"
   ]
  },
  {
   "cell_type": "code",
   "execution_count": 64,
   "metadata": {
    "executionInfo": {
     "elapsed": 4,
     "status": "ok",
     "timestamp": 1718160696670,
     "user": {
      "displayName": "Ken Constable",
      "userId": "07550562182491091576"
     },
     "user_tz": 240
    },
    "id": "uLFpd-hGkC-u"
   },
   "outputs": [],
   "source": [
    "def generate_responses(data, model, tokenizer, indexes, verbose=True):\n",
    "    \"\"\"Generate summaries for each example in the dataset\"\"\"\n",
    "\n",
    "    # accumulator\n",
    "    summaries=[]\n",
    "\n",
    "    # for each example in the indexes\n",
    "    for idx in indexes:\n",
    "        # extract the dialogue text and human summary\n",
    "        dialogue = data['test'][idx]['dialogue']\n",
    "        human_summary = data['test'][idx]['summary']\n",
    "\n",
    "        # prepare the prompt\n",
    "        prompt = get_prompt(dialogue)\n",
    "\n",
    "        # get the response\n",
    "        genai_summary = get_response(prompt, model, tokenizer)\n",
    "\n",
    "        # summary of results\n",
    "        summary = {'index':idx,'human':human_summary,'genai':genai_summary}\n",
    "\n",
    "        # accumulate summaries\n",
    "        summaries.append(summary)\n",
    "\n",
    "        # optional print dialogue & summary\n",
    "        if verbose:\n",
    "          print_example(summary,dialogue)\n",
    "\n",
    "    return summaries"
   ]
  },
  {
   "cell_type": "code",
   "execution_count": 75,
   "metadata": {
    "colab": {
     "base_uri": "https://localhost:8080/"
    },
    "executionInfo": {
     "elapsed": 9,
     "status": "ok",
     "timestamp": 1718160876403,
     "user": {
      "displayName": "Ken Constable",
      "userId": "07550562182491091576"
     },
     "user_tz": 240
    },
    "id": "WJB1Yi0tMqd7",
    "outputId": "7f410659-aefe-4675-b853-a96287ae0e1d"
   },
   "outputs": [
    {
     "name": "stdout",
     "output_type": "stream",
     "text": [
      "Dialogue:40\n",
      "====================================================================================================\n",
      "#Person1#: What time is it, Tom?\n",
      "#Person2#: Just a minute. It's ten to nine by my watch.\n",
      "#Person1#: Is it? I had no idea it was so late. I must be off now.\n",
      "#Person2#: What's the hurry?\n",
      "#Person1#: I must catch the nine-thirty train.\n",
      "#Person2#: You've plenty of time yet. The railway station is very close. It won't take more than twenty minutes to get there.\n",
      "\n",
      "Human Summary ----------------------------------------------------------------------------------------\n",
      "#Person1# is in a hurry to catch a train. Tom tells #Person1# there is plenty of time. \n",
      "\n",
      "GenAI Summary ----------------------------------------------------------------------------------------\n",
      "Tom is late.\n",
      "==================================================================================================== \n",
      "\n",
      "Dialogue:200\n",
      "====================================================================================================\n",
      "#Person1#: Have you considered upgrading your system?\n",
      "#Person2#: Yes, but I'm not sure what exactly I would need.\n",
      "#Person1#: You could consider adding a painting program to your software. It would allow you to make up your own flyers and banners for advertising.\n",
      "#Person2#: That would be a definite bonus.\n",
      "#Person1#: You might also want to upgrade your hardware because it is pretty outdated now.\n",
      "#Person2#: How can we do that?\n",
      "#Person1#: You'd probably need a faster processor, to begin with. And you also need a more powerful hard disc, more memory and a faster modem. Do you have a CD-ROM drive?\n",
      "#Person2#: No.\n",
      "#Person1#: Then you might want to add a CD-ROM drive too, because most new software programs are coming out on Cds.\n",
      "#Person2#: That sounds great. Thanks.\n",
      "\n",
      "Human Summary ----------------------------------------------------------------------------------------\n",
      "#Person1# teaches #Person2# how to upgrade software and hardware in #Person2#'s system. \n",
      "\n",
      "GenAI Summary ----------------------------------------------------------------------------------------\n",
      "Changing your computer system can help you to get your business noticed.\n",
      "==================================================================================================== \n",
      "\n"
     ]
    },
    {
     "data": {
      "text/plain": [
       "[{'index': 40,\n",
       "  'human': '#Person1# is in a hurry to catch a train. Tom tells #Person1# there is plenty of time.',\n",
       "  'genai': 'Tom is late.'},\n",
       " {'index': 200,\n",
       "  'human': \"#Person1# teaches #Person2# how to upgrade software and hardware in #Person2#'s system.\",\n",
       "  'genai': 'Changing your computer system can help you to get your business noticed.'}]"
      ]
     },
     "execution_count": 75,
     "metadata": {},
     "output_type": "execute_result"
    }
   ],
   "source": [
    "# sample generations from the base model\n",
    "summaries = generate_responses(\n",
    "    data_dialogsum,\n",
    "    base_model,\n",
    "    tokenizer,\n",
    "    [40,200],\n",
    "    True\n",
    "    )\n",
    "\n",
    "summaries"
   ]
  },
  {
   "cell_type": "markdown",
   "metadata": {
    "id": "OcvLHIzAVDdM"
   },
   "source": [
    "### Preprocessing\n",
    "+ The following preprocessing steps were required for instruction fine-tuning for text summarization tasks\n",
    "\t+ Tokenize the inputs and human-generated summaries\n",
    "\t+ Standardize the document lengths using truncation and padding\n",
    "\t+ Format the instruction prompt for T5 models to include the encoded document text and human-generated summaries\n",
    "+ Apply all transformations to the train, test, and validation datasets"
   ]
  },
  {
   "cell_type": "code",
   "execution_count": 66,
   "metadata": {
    "executionInfo": {
     "elapsed": 390,
     "status": "ok",
     "timestamp": 1718160716449,
     "user": {
      "displayName": "Ken Constable",
      "userId": "07550562182491091576"
     },
     "user_tz": 240
    },
    "id": "fDQDeUoEknH0"
   },
   "outputs": [],
   "source": [
    "def preprocess(example):\n",
    "    \"\"\"Prepare the dataset for instrucion fine-tuning \"\"\"\n",
    "    prompt_start = \"Summarize the following converstion: \\n\\n\"\n",
    "    prompt_end = \"\\n\\nSummary:\"\n",
    "    prompt = [prompt_start + d + prompt_end for d in example['dialogue']]\n",
    "    example['input_ids'] = tokenizer(prompt, padding=\"max_length\", truncation=True, return_tensors='pt').input_ids\n",
    "    example['labels'] = tokenizer(example['summary'], padding=\"max_length\",truncation=True, return_tensors='pt').input_ids\n",
    "\n",
    "    return example"
   ]
  },
  {
   "cell_type": "code",
   "execution_count": 67,
   "metadata": {
    "colab": {
     "base_uri": "https://localhost:8080/",
     "height": 292,
     "referenced_widgets": [
      "8219022832ad42dea149ff4251be3a23",
      "999aa1e258fc40349c662ee0d6ff1ce7",
      "eeb92ee9d9a24790a8774c87703add22",
      "632a7e4ab1244b9abe6c49fa7061a738",
      "88cf0f4f5bcf452f9ae085955e4f892b",
      "361cffa47b654196a111a9a5da715753",
      "68d83ec281744c5a875ac5eb1d67a791",
      "b5eb7122efdf4d47acab36a11402498b",
      "ef8d47c0ce48449586cfb3bdb8c705ac",
      "954b09bc8ca4433a90774264feadf7c8",
      "afa6b67ad55444c796c11f9b6ed1616c"
     ]
    },
    "executionInfo": {
     "elapsed": 8,
     "status": "ok",
     "timestamp": 1718160719831,
     "user": {
      "displayName": "Ken Constable",
      "userId": "07550562182491091576"
     },
     "user_tz": 240
    },
    "id": "uUQ14d2ukqtq",
    "outputId": "95a2abb8-f464-4139-c3d4-7c6062ac9c2d"
   },
   "outputs": [
    {
     "data": {
      "application/vnd.jupyter.widget-view+json": {
       "model_id": "8219022832ad42dea149ff4251be3a23",
       "version_major": 2,
       "version_minor": 0
      },
      "text/plain": [
       "Map:   0%|          | 0/500 [00:00<?, ? examples/s]"
      ]
     },
     "metadata": {},
     "output_type": "display_data"
    },
    {
     "name": "stdout",
     "output_type": "stream",
     "text": [
      "DatasetDict({\n",
      "    train: Dataset({\n",
      "        features: ['input_ids', 'labels'],\n",
      "        num_rows: 12460\n",
      "    })\n",
      "    validation: Dataset({\n",
      "        features: ['input_ids', 'labels'],\n",
      "        num_rows: 500\n",
      "    })\n",
      "    test: Dataset({\n",
      "        features: ['input_ids', 'labels'],\n",
      "        num_rows: 1500\n",
      "    })\n",
      "})\n"
     ]
    }
   ],
   "source": [
    "# preprocess the data (prepare the prompts, tokenize the inputs, remove unnecessary features)\n",
    "tokenized_datasets = data_dialogsum.map(preprocess, batched=True)\n",
    "tokenized_datasets = tokenized_datasets.remove_columns(['id','dialogue','summary','topic'])\n",
    "print(tokenized_datasets)\n"
   ]
  },
  {
   "cell_type": "markdown",
   "metadata": {
    "id": "efUxnzC4VGzM"
   },
   "source": [
    "### Parameter Efficient Fine Tuning (PEFT)\n",
    "+ The LoRA methodology is used to fine-tune a small number of adaptors during training\n",
    " #### Why PEFT/LoRA?\n",
    " + This is the preferred method of many practitioners\n",
    " + It is effective at improving performance for task-specific fine-tuning\n",
    " + It uses much fewer resources than full instruction fine-tuning\n",
    " + It only trains a small fraction of model weights (~1%)\n",
    " + It prevents catastrophic forgetting when fine-tuning because the base model weights are unchanged.  The adaptors are merged with the original base model weights\n",
    "  + There is only a small loss of performance when compared to full fine-tuning\n"
   ]
  },
  {
   "cell_type": "markdown",
   "metadata": {
    "id": "BpI6GKDqPoa4"
   },
   "source": [
    "### LoRA Configuration\n",
    "+ **Key Parameters**\n",
    "+ rank (r)\n",
    " + Determines the number of additional parameters introduced during fine-tuning\n",
    " + Typical value range =>  4, 8, 16, 32\n",
    "  + Higher values increase the model's capacity to capture more complex patterns, but also increase computational costs and the likelihood of over-fitting\n",
    "  + Over-fitting can be mitigated using regularization techniques (lora_dropout, weight decay)\n",
    "+ LoRA modules (target_modules)\n",
    " + Defines which layers the adaptors are added to in the base model\n",
    " + The options available depend on the topography of the base model\n",
    "+ task_type - the task type (summarization, classification, transaction etc.)\n",
    "+ Steps\n",
    "\t+ Define the LoRA parameters in the LoraConfig object\n",
    "\t+ Prepare the PEFT model from the base model + LoRA config object\n",
    "\t+ View the number of trainable parameters in the PEFT model"
   ]
  },
  {
   "cell_type": "code",
   "execution_count": 108,
   "metadata": {
    "colab": {
     "base_uri": "https://localhost:8080/"
    },
    "executionInfo": {
     "elapsed": 760,
     "status": "ok",
     "timestamp": 1718162632109,
     "user": {
      "displayName": "Ken Constable",
      "userId": "07550562182491091576"
     },
     "user_tz": 240
    },
    "id": "PxPjNVrSktP8",
    "outputId": "f988519c-5ce2-4d0a-888f-6138853b84cb"
   },
   "outputs": [
    {
     "name": "stdout",
     "output_type": "stream",
     "text": [
      "trainable params: 3,538,944 || all params: 251,116,800 || trainable%: 1.4093\n"
     ]
    }
   ],
   "source": [
    "lora_config = LoraConfig(\n",
    "    r = 16, # dimension of adaptors, rank\n",
    "    lora_alpha=8, # alpha scaling\n",
    "    target_modules = [\"q\",\"v\"], # add LoRA adaptors to these layers in the base model\n",
    "    lora_dropout=0.10, # regularization\n",
    "    bias=\"none\",\n",
    "    task_type=TaskType.SEQ_2_SEQ_LM # text summarization\n",
    ")\n",
    "\n",
    "# create the PEFT model\n",
    "peft_model = get_peft_model(base_model, lora_config)\n",
    "peft_model.print_trainable_parameters()"
   ]
  },
  {
   "cell_type": "markdown",
   "metadata": {
    "id": "n27zhF3kVP3Q"
   },
   "source": [
    "### Training\n",
    "This project aimed to demonstrate how to fine-tune LLMs for specific tasks using public datasets. As the focus was not on performance, no attempt at hyperparameter tuning was undertaken. In most instances, the default hyperparameter values were used\n",
    "+ **Key Parameters**\n",
    "+ output_dir - location to save trained adaptor weights\n",
    "+ learning_rate -set to default\n",
    "+ auto_find_batch_size - set to auto\n",
    "+ Logging and evaluation were set to occur after each epoch\n",
    "+ The data collator is used to automatically pad the text to the longest sequence in each batch"
   ]
  },
  {
   "cell_type": "code",
   "execution_count": 110,
   "metadata": {
    "colab": {
     "base_uri": "https://localhost:8080/",
     "height": 1000
    },
    "executionInfo": {
     "elapsed": 353194,
     "status": "ok",
     "timestamp": 1718163639859,
     "user": {
      "displayName": "Ken Constable",
      "userId": "07550562182491091576"
     },
     "user_tz": 240
    },
    "id": "J3PLJCFhkvjD",
    "outputId": "3ec7079f-bb0c-44ff-ffd8-640607ed2189"
   },
   "outputs": [
    {
     "name": "stderr",
     "output_type": "stream",
     "text": [
      "max_steps is given, it will override any value given in num_train_epochs\n"
     ]
    },
    {
     "data": {
      "text/html": [
       "\n",
       "    <div>\n",
       "      \n",
       "      <progress value='150' max='150' style='width:300px; height:20px; vertical-align: middle;'></progress>\n",
       "      [150/150 05:48, Epoch 0/1]\n",
       "    </div>\n",
       "    <table border=\"1\" class=\"dataframe\">\n",
       "  <thead>\n",
       " <tr style=\"text-align: left;\">\n",
       "      <th>Step</th>\n",
       "      <th>Training Loss</th>\n",
       "    </tr>\n",
       "  </thead>\n",
       "  <tbody>\n",
       "    <tr>\n",
       "      <td>1</td>\n",
       "      <td>0.177700</td>\n",
       "    </tr>\n",
       "    <tr>\n",
       "      <td>2</td>\n",
       "      <td>0.221700</td>\n",
       "    </tr>\n",
       "    <tr>\n",
       "      <td>3</td>\n",
       "      <td>0.169900</td>\n",
       "    </tr>\n",
       "    <tr>\n",
       "      <td>4</td>\n",
       "      <td>0.210000</td>\n",
       "    </tr>\n",
       "    <tr>\n",
       "      <td>5</td>\n",
       "      <td>0.160200</td>\n",
       "    </tr>\n",
       "    <tr>\n",
       "      <td>6</td>\n",
       "      <td>0.177700</td>\n",
       "    </tr>\n",
       "    <tr>\n",
       "      <td>7</td>\n",
       "      <td>0.191400</td>\n",
       "    </tr>\n",
       "    <tr>\n",
       "      <td>8</td>\n",
       "      <td>0.166000</td>\n",
       "    </tr>\n",
       "    <tr>\n",
       "      <td>9</td>\n",
       "      <td>0.190400</td>\n",
       "    </tr>\n",
       "    <tr>\n",
       "      <td>10</td>\n",
       "      <td>0.139600</td>\n",
       "    </tr>\n",
       "    <tr>\n",
       "      <td>11</td>\n",
       "      <td>0.175800</td>\n",
       "    </tr>\n",
       "    <tr>\n",
       "      <td>12</td>\n",
       "      <td>0.175800</td>\n",
       "    </tr>\n",
       "    <tr>\n",
       "      <td>13</td>\n",
       "      <td>0.160200</td>\n",
       "    </tr>\n",
       "    <tr>\n",
       "      <td>14</td>\n",
       "      <td>0.169900</td>\n",
       "    </tr>\n",
       "    <tr>\n",
       "      <td>15</td>\n",
       "      <td>0.137700</td>\n",
       "    </tr>\n",
       "    <tr>\n",
       "      <td>16</td>\n",
       "      <td>0.155300</td>\n",
       "    </tr>\n",
       "    <tr>\n",
       "      <td>17</td>\n",
       "      <td>0.160200</td>\n",
       "    </tr>\n",
       "    <tr>\n",
       "      <td>18</td>\n",
       "      <td>0.155300</td>\n",
       "    </tr>\n",
       "    <tr>\n",
       "      <td>19</td>\n",
       "      <td>0.206100</td>\n",
       "    </tr>\n",
       "    <tr>\n",
       "      <td>20</td>\n",
       "      <td>0.140600</td>\n",
       "    </tr>\n",
       "    <tr>\n",
       "      <td>21</td>\n",
       "      <td>0.253900</td>\n",
       "    </tr>\n",
       "    <tr>\n",
       "      <td>22</td>\n",
       "      <td>0.195300</td>\n",
       "    </tr>\n",
       "    <tr>\n",
       "      <td>23</td>\n",
       "      <td>0.149400</td>\n",
       "    </tr>\n",
       "    <tr>\n",
       "      <td>24</td>\n",
       "      <td>0.142600</td>\n",
       "    </tr>\n",
       "    <tr>\n",
       "      <td>25</td>\n",
       "      <td>0.192400</td>\n",
       "    </tr>\n",
       "    <tr>\n",
       "      <td>26</td>\n",
       "      <td>0.138700</td>\n",
       "    </tr>\n",
       "    <tr>\n",
       "      <td>27</td>\n",
       "      <td>0.170900</td>\n",
       "    </tr>\n",
       "    <tr>\n",
       "      <td>28</td>\n",
       "      <td>0.128900</td>\n",
       "    </tr>\n",
       "    <tr>\n",
       "      <td>29</td>\n",
       "      <td>0.155300</td>\n",
       "    </tr>\n",
       "    <tr>\n",
       "      <td>30</td>\n",
       "      <td>0.178700</td>\n",
       "    </tr>\n",
       "    <tr>\n",
       "      <td>31</td>\n",
       "      <td>0.169900</td>\n",
       "    </tr>\n",
       "    <tr>\n",
       "      <td>32</td>\n",
       "      <td>0.123500</td>\n",
       "    </tr>\n",
       "    <tr>\n",
       "      <td>33</td>\n",
       "      <td>0.129900</td>\n",
       "    </tr>\n",
       "    <tr>\n",
       "      <td>34</td>\n",
       "      <td>0.122100</td>\n",
       "    </tr>\n",
       "    <tr>\n",
       "      <td>35</td>\n",
       "      <td>0.190400</td>\n",
       "    </tr>\n",
       "    <tr>\n",
       "      <td>36</td>\n",
       "      <td>0.161100</td>\n",
       "    </tr>\n",
       "    <tr>\n",
       "      <td>37</td>\n",
       "      <td>0.150400</td>\n",
       "    </tr>\n",
       "    <tr>\n",
       "      <td>38</td>\n",
       "      <td>0.149400</td>\n",
       "    </tr>\n",
       "    <tr>\n",
       "      <td>39</td>\n",
       "      <td>0.117200</td>\n",
       "    </tr>\n",
       "    <tr>\n",
       "      <td>40</td>\n",
       "      <td>0.137700</td>\n",
       "    </tr>\n",
       "    <tr>\n",
       "      <td>41</td>\n",
       "      <td>0.116700</td>\n",
       "    </tr>\n",
       "    <tr>\n",
       "      <td>42</td>\n",
       "      <td>0.153300</td>\n",
       "    </tr>\n",
       "    <tr>\n",
       "      <td>43</td>\n",
       "      <td>0.166000</td>\n",
       "    </tr>\n",
       "    <tr>\n",
       "      <td>44</td>\n",
       "      <td>0.147500</td>\n",
       "    </tr>\n",
       "    <tr>\n",
       "      <td>45</td>\n",
       "      <td>0.206100</td>\n",
       "    </tr>\n",
       "    <tr>\n",
       "      <td>46</td>\n",
       "      <td>0.131800</td>\n",
       "    </tr>\n",
       "    <tr>\n",
       "      <td>47</td>\n",
       "      <td>0.122100</td>\n",
       "    </tr>\n",
       "    <tr>\n",
       "      <td>48</td>\n",
       "      <td>0.118700</td>\n",
       "    </tr>\n",
       "    <tr>\n",
       "      <td>49</td>\n",
       "      <td>0.134800</td>\n",
       "    </tr>\n",
       "    <tr>\n",
       "      <td>50</td>\n",
       "      <td>0.103500</td>\n",
       "    </tr>\n",
       "    <tr>\n",
       "      <td>51</td>\n",
       "      <td>0.114700</td>\n",
       "    </tr>\n",
       "    <tr>\n",
       "      <td>52</td>\n",
       "      <td>0.110800</td>\n",
       "    </tr>\n",
       "    <tr>\n",
       "      <td>53</td>\n",
       "      <td>0.173800</td>\n",
       "    </tr>\n",
       "    <tr>\n",
       "      <td>54</td>\n",
       "      <td>0.136700</td>\n",
       "    </tr>\n",
       "    <tr>\n",
       "      <td>55</td>\n",
       "      <td>0.144500</td>\n",
       "    </tr>\n",
       "    <tr>\n",
       "      <td>56</td>\n",
       "      <td>0.152300</td>\n",
       "    </tr>\n",
       "    <tr>\n",
       "      <td>57</td>\n",
       "      <td>0.179700</td>\n",
       "    </tr>\n",
       "    <tr>\n",
       "      <td>58</td>\n",
       "      <td>0.165000</td>\n",
       "    </tr>\n",
       "    <tr>\n",
       "      <td>59</td>\n",
       "      <td>0.144500</td>\n",
       "    </tr>\n",
       "    <tr>\n",
       "      <td>60</td>\n",
       "      <td>0.139600</td>\n",
       "    </tr>\n",
       "    <tr>\n",
       "      <td>61</td>\n",
       "      <td>0.147500</td>\n",
       "    </tr>\n",
       "    <tr>\n",
       "      <td>62</td>\n",
       "      <td>0.117200</td>\n",
       "    </tr>\n",
       "    <tr>\n",
       "      <td>63</td>\n",
       "      <td>0.129900</td>\n",
       "    </tr>\n",
       "    <tr>\n",
       "      <td>64</td>\n",
       "      <td>0.128900</td>\n",
       "    </tr>\n",
       "    <tr>\n",
       "      <td>65</td>\n",
       "      <td>0.124500</td>\n",
       "    </tr>\n",
       "    <tr>\n",
       "      <td>66</td>\n",
       "      <td>0.153300</td>\n",
       "    </tr>\n",
       "    <tr>\n",
       "      <td>67</td>\n",
       "      <td>0.124500</td>\n",
       "    </tr>\n",
       "    <tr>\n",
       "      <td>68</td>\n",
       "      <td>0.130900</td>\n",
       "    </tr>\n",
       "    <tr>\n",
       "      <td>69</td>\n",
       "      <td>0.168900</td>\n",
       "    </tr>\n",
       "    <tr>\n",
       "      <td>70</td>\n",
       "      <td>0.130900</td>\n",
       "    </tr>\n",
       "    <tr>\n",
       "      <td>71</td>\n",
       "      <td>0.113300</td>\n",
       "    </tr>\n",
       "    <tr>\n",
       "      <td>72</td>\n",
       "      <td>0.120600</td>\n",
       "    </tr>\n",
       "    <tr>\n",
       "      <td>73</td>\n",
       "      <td>0.141600</td>\n",
       "    </tr>\n",
       "    <tr>\n",
       "      <td>74</td>\n",
       "      <td>0.110800</td>\n",
       "    </tr>\n",
       "    <tr>\n",
       "      <td>75</td>\n",
       "      <td>0.320300</td>\n",
       "    </tr>\n",
       "    <tr>\n",
       "      <td>76</td>\n",
       "      <td>0.123000</td>\n",
       "    </tr>\n",
       "    <tr>\n",
       "      <td>77</td>\n",
       "      <td>0.131800</td>\n",
       "    </tr>\n",
       "    <tr>\n",
       "      <td>78</td>\n",
       "      <td>0.102500</td>\n",
       "    </tr>\n",
       "    <tr>\n",
       "      <td>79</td>\n",
       "      <td>0.106900</td>\n",
       "    </tr>\n",
       "    <tr>\n",
       "      <td>80</td>\n",
       "      <td>0.113300</td>\n",
       "    </tr>\n",
       "    <tr>\n",
       "      <td>81</td>\n",
       "      <td>0.128900</td>\n",
       "    </tr>\n",
       "    <tr>\n",
       "      <td>82</td>\n",
       "      <td>0.140600</td>\n",
       "    </tr>\n",
       "    <tr>\n",
       "      <td>83</td>\n",
       "      <td>0.158200</td>\n",
       "    </tr>\n",
       "    <tr>\n",
       "      <td>84</td>\n",
       "      <td>0.116200</td>\n",
       "    </tr>\n",
       "    <tr>\n",
       "      <td>85</td>\n",
       "      <td>0.182600</td>\n",
       "    </tr>\n",
       "    <tr>\n",
       "      <td>86</td>\n",
       "      <td>0.121600</td>\n",
       "    </tr>\n",
       "    <tr>\n",
       "      <td>87</td>\n",
       "      <td>0.123500</td>\n",
       "    </tr>\n",
       "    <tr>\n",
       "      <td>88</td>\n",
       "      <td>0.119100</td>\n",
       "    </tr>\n",
       "    <tr>\n",
       "      <td>89</td>\n",
       "      <td>0.160200</td>\n",
       "    </tr>\n",
       "    <tr>\n",
       "      <td>90</td>\n",
       "      <td>0.131800</td>\n",
       "    </tr>\n",
       "    <tr>\n",
       "      <td>91</td>\n",
       "      <td>0.128900</td>\n",
       "    </tr>\n",
       "    <tr>\n",
       "      <td>92</td>\n",
       "      <td>0.120100</td>\n",
       "    </tr>\n",
       "    <tr>\n",
       "      <td>93</td>\n",
       "      <td>0.109400</td>\n",
       "    </tr>\n",
       "    <tr>\n",
       "      <td>94</td>\n",
       "      <td>0.145500</td>\n",
       "    </tr>\n",
       "    <tr>\n",
       "      <td>95</td>\n",
       "      <td>0.152300</td>\n",
       "    </tr>\n",
       "    <tr>\n",
       "      <td>96</td>\n",
       "      <td>0.200200</td>\n",
       "    </tr>\n",
       "    <tr>\n",
       "      <td>97</td>\n",
       "      <td>0.155300</td>\n",
       "    </tr>\n",
       "    <tr>\n",
       "      <td>98</td>\n",
       "      <td>0.145500</td>\n",
       "    </tr>\n",
       "    <tr>\n",
       "      <td>99</td>\n",
       "      <td>0.167000</td>\n",
       "    </tr>\n",
       "    <tr>\n",
       "      <td>100</td>\n",
       "      <td>0.167000</td>\n",
       "    </tr>\n",
       "    <tr>\n",
       "      <td>101</td>\n",
       "      <td>0.166000</td>\n",
       "    </tr>\n",
       "    <tr>\n",
       "      <td>102</td>\n",
       "      <td>0.131800</td>\n",
       "    </tr>\n",
       "    <tr>\n",
       "      <td>103</td>\n",
       "      <td>0.155300</td>\n",
       "    </tr>\n",
       "    <tr>\n",
       "      <td>104</td>\n",
       "      <td>0.109400</td>\n",
       "    </tr>\n",
       "    <tr>\n",
       "      <td>105</td>\n",
       "      <td>0.141600</td>\n",
       "    </tr>\n",
       "    <tr>\n",
       "      <td>106</td>\n",
       "      <td>0.154300</td>\n",
       "    </tr>\n",
       "    <tr>\n",
       "      <td>107</td>\n",
       "      <td>0.239300</td>\n",
       "    </tr>\n",
       "    <tr>\n",
       "      <td>108</td>\n",
       "      <td>0.143600</td>\n",
       "    </tr>\n",
       "    <tr>\n",
       "      <td>109</td>\n",
       "      <td>0.111300</td>\n",
       "    </tr>\n",
       "    <tr>\n",
       "      <td>110</td>\n",
       "      <td>0.129900</td>\n",
       "    </tr>\n",
       "    <tr>\n",
       "      <td>111</td>\n",
       "      <td>0.168900</td>\n",
       "    </tr>\n",
       "    <tr>\n",
       "      <td>112</td>\n",
       "      <td>0.149400</td>\n",
       "    </tr>\n",
       "    <tr>\n",
       "      <td>113</td>\n",
       "      <td>0.100600</td>\n",
       "    </tr>\n",
       "    <tr>\n",
       "      <td>114</td>\n",
       "      <td>0.138700</td>\n",
       "    </tr>\n",
       "    <tr>\n",
       "      <td>115</td>\n",
       "      <td>0.146500</td>\n",
       "    </tr>\n",
       "    <tr>\n",
       "      <td>116</td>\n",
       "      <td>0.162100</td>\n",
       "    </tr>\n",
       "    <tr>\n",
       "      <td>117</td>\n",
       "      <td>0.120600</td>\n",
       "    </tr>\n",
       "    <tr>\n",
       "      <td>118</td>\n",
       "      <td>0.157200</td>\n",
       "    </tr>\n",
       "    <tr>\n",
       "      <td>119</td>\n",
       "      <td>0.107900</td>\n",
       "    </tr>\n",
       "    <tr>\n",
       "      <td>120</td>\n",
       "      <td>0.129900</td>\n",
       "    </tr>\n",
       "    <tr>\n",
       "      <td>121</td>\n",
       "      <td>0.119100</td>\n",
       "    </tr>\n",
       "    <tr>\n",
       "      <td>122</td>\n",
       "      <td>0.165000</td>\n",
       "    </tr>\n",
       "    <tr>\n",
       "      <td>123</td>\n",
       "      <td>0.149400</td>\n",
       "    </tr>\n",
       "    <tr>\n",
       "      <td>124</td>\n",
       "      <td>0.136700</td>\n",
       "    </tr>\n",
       "    <tr>\n",
       "      <td>125</td>\n",
       "      <td>0.145500</td>\n",
       "    </tr>\n",
       "    <tr>\n",
       "      <td>126</td>\n",
       "      <td>0.139600</td>\n",
       "    </tr>\n",
       "    <tr>\n",
       "      <td>127</td>\n",
       "      <td>0.113300</td>\n",
       "    </tr>\n",
       "    <tr>\n",
       "      <td>128</td>\n",
       "      <td>0.105500</td>\n",
       "    </tr>\n",
       "    <tr>\n",
       "      <td>129</td>\n",
       "      <td>0.108400</td>\n",
       "    </tr>\n",
       "    <tr>\n",
       "      <td>130</td>\n",
       "      <td>0.129900</td>\n",
       "    </tr>\n",
       "    <tr>\n",
       "      <td>131</td>\n",
       "      <td>0.133800</td>\n",
       "    </tr>\n",
       "    <tr>\n",
       "      <td>132</td>\n",
       "      <td>0.159200</td>\n",
       "    </tr>\n",
       "    <tr>\n",
       "      <td>133</td>\n",
       "      <td>0.128900</td>\n",
       "    </tr>\n",
       "    <tr>\n",
       "      <td>134</td>\n",
       "      <td>0.108900</td>\n",
       "    </tr>\n",
       "    <tr>\n",
       "      <td>135</td>\n",
       "      <td>0.127000</td>\n",
       "    </tr>\n",
       "    <tr>\n",
       "      <td>136</td>\n",
       "      <td>0.106900</td>\n",
       "    </tr>\n",
       "    <tr>\n",
       "      <td>137</td>\n",
       "      <td>0.161100</td>\n",
       "    </tr>\n",
       "    <tr>\n",
       "      <td>138</td>\n",
       "      <td>0.115200</td>\n",
       "    </tr>\n",
       "    <tr>\n",
       "      <td>139</td>\n",
       "      <td>0.153300</td>\n",
       "    </tr>\n",
       "    <tr>\n",
       "      <td>140</td>\n",
       "      <td>0.113300</td>\n",
       "    </tr>\n",
       "    <tr>\n",
       "      <td>141</td>\n",
       "      <td>0.132800</td>\n",
       "    </tr>\n",
       "    <tr>\n",
       "      <td>142</td>\n",
       "      <td>0.133800</td>\n",
       "    </tr>\n",
       "    <tr>\n",
       "      <td>143</td>\n",
       "      <td>0.136700</td>\n",
       "    </tr>\n",
       "    <tr>\n",
       "      <td>144</td>\n",
       "      <td>0.144500</td>\n",
       "    </tr>\n",
       "    <tr>\n",
       "      <td>145</td>\n",
       "      <td>0.200200</td>\n",
       "    </tr>\n",
       "    <tr>\n",
       "      <td>146</td>\n",
       "      <td>0.121600</td>\n",
       "    </tr>\n",
       "    <tr>\n",
       "      <td>147</td>\n",
       "      <td>0.128900</td>\n",
       "    </tr>\n",
       "    <tr>\n",
       "      <td>148</td>\n",
       "      <td>0.123000</td>\n",
       "    </tr>\n",
       "    <tr>\n",
       "      <td>149</td>\n",
       "      <td>0.101100</td>\n",
       "    </tr>\n",
       "    <tr>\n",
       "      <td>150</td>\n",
       "      <td>0.104500</td>\n",
       "    </tr>\n",
       "  </tbody>\n",
       "</table><p>"
      ],
      "text/plain": [
       "<IPython.core.display.HTML object>"
      ]
     },
     "metadata": {},
     "output_type": "display_data"
    },
    {
     "name": "stderr",
     "output_type": "stream",
     "text": [
      "/usr/local/lib/python3.10/dist-packages/huggingface_hub/file_download.py:1132: FutureWarning: `resume_download` is deprecated and will be removed in version 1.0.0. Downloads always resume when possible. If you want to force a new download, use `force_download=True`.\n",
      "  warnings.warn(\n"
     ]
    }
   ],
   "source": [
    "# Training Config\n",
    "config_training = TrainingArguments(\n",
    "    output_dir=DIR_TRAIN,\n",
    "    auto_find_batch_size=True,\n",
    "    learning_rate=1e-3,\n",
    "    logging_steps=1,\n",
    "    max_steps = 150\n",
    ")\n",
    "# Trainer\n",
    "trainer = Trainer(\n",
    "    model=peft_model,\n",
    "    args=config_training,\n",
    "    train_dataset=tokenized_datasets['train'],\n",
    "    eval_dataset=tokenized_datasets['validation']\n",
    ")\n",
    "\n",
    "# train\n",
    "trainer.train()\n",
    "\n",
    "# save adaptor weights\n",
    "trainer.save_model(DIR_MODEL)\n",
    "# peft_model.push_to_hub('kconstable/dialogue-flant5')"
   ]
  },
  {
   "cell_type": "markdown",
   "metadata": {
    "id": "mfU8z20ZVXnk"
   },
   "source": [
    "### Merge Base Model & Adapters\n",
    "+ The trained LoRA adaptors must be merged with the original base model\n",
    "+ The resulting model consists of the base model plus the trained adaptors\n",
    "\n",
    "\n",
    "\n"
   ]
  },
  {
   "cell_type": "code",
   "execution_count": 111,
   "metadata": {
    "executionInfo": {
     "elapsed": 5,
     "status": "ok",
     "timestamp": 1718163699717,
     "user": {
      "displayName": "Ken Constable",
      "userId": "07550562182491091576"
     },
     "user_tz": 240
    },
    "id": "bK6kC6wjwb7M"
   },
   "outputs": [],
   "source": [
    "# merge base model + peft adaptors\n",
    "tuned_model = PeftModel.from_pretrained(\n",
    "    base_model,\n",
    "    DIR_MODEL, # LoRA adapters\n",
    "    torch_dthype=torch.bfloat16,\n",
    "    trust_remote_code=True,\n",
    "    is_trainable=False\n",
    "  )\n",
    "\n",
    "# tuned_model = tuned_model.merge_and_unload()"
   ]
  },
  {
   "cell_type": "markdown",
   "metadata": {
    "id": "kobJ7rUW0dHb"
   },
   "source": [
    "### Evaluate Model Performance\n",
    "+ Evaluating model performance for text summarization is much more complex than regression or classification\n",
    "\n",
    "#### Qualitative Comparision\n",
    " + The summaries below compare the summaries from the base and tuned models\n",
    " + The results are similar, and its not easy to determine if the performance has been improved"
   ]
  },
  {
   "cell_type": "code",
   "execution_count": 182,
   "metadata": {
    "colab": {
     "base_uri": "https://localhost:8080/"
    },
    "executionInfo": {
     "elapsed": 9,
     "status": "ok",
     "timestamp": 1718167639815,
     "user": {
      "displayName": "Ken Constable",
      "userId": "07550562182491091576"
     },
     "user_tz": 240
    },
    "id": "j8TNeAQA14E1",
    "outputId": "51264eb6-d829-45f0-d10c-1859a4f722a0"
   },
   "outputs": [
    {
     "name": "stdout",
     "output_type": "stream",
     "text": [
      "Original Model\n",
      "====================================================================================================\n"
     ]
    },
    {
     "data": {
      "text/plain": [
       "[{'index': 4,\n",
       "  'human': \"#Person2# decides to follow #Person1#'s suggestions on quitting driving to work and will try to use public transportations.\",\n",
       "  'genai': 'The following are some ways to get around the city.'}]"
      ]
     },
     "execution_count": 182,
     "metadata": {},
     "output_type": "execute_result"
    }
   ],
   "source": [
    "# sample generations from the base model\n",
    "print(\"Original Model\")\n",
    "print(\"=\"*100)\n",
    "generate_responses(\n",
    "    data_dialogsum,\n",
    "    original_model,\n",
    "    tokenizer,\n",
    "    [4],\n",
    "    False\n",
    "  )"
   ]
  },
  {
   "cell_type": "code",
   "execution_count": 181,
   "metadata": {
    "colab": {
     "base_uri": "https://localhost:8080/"
    },
    "executionInfo": {
     "elapsed": 1590,
     "status": "ok",
     "timestamp": 1718167616517,
     "user": {
      "displayName": "Ken Constable",
      "userId": "07550562182491091576"
     },
     "user_tz": 240
    },
    "id": "rgenuuAMR8X9",
    "outputId": "b031dd50-9d2d-4764-f6b6-296c36f9275f"
   },
   "outputs": [
    {
     "name": "stdout",
     "output_type": "stream",
     "text": [
      "Tuned Model\n",
      "====================================================================================================\n"
     ]
    },
    {
     "data": {
      "text/plain": [
       "[{'index': 4,\n",
       "  'human': \"#Person2# decides to follow #Person1#'s suggestions on quitting driving to work and will try to use public transportations.\",\n",
       "  'genai': \"#Person2# got stuck in traffic again. #Person2# thinks it's better to take public transport system to work. #Person2# thinks taking the subway would be better for the environment and #Person2# will miss having the freedom that #Person2# has with a car. #Person2# suggests biking to work.\"}]"
      ]
     },
     "execution_count": 181,
     "metadata": {},
     "output_type": "execute_result"
    }
   ],
   "source": [
    "# sample generations from the tuned model\n",
    "print(\"Tuned Model\")\n",
    "print(\"=\"*100)\n",
    "# tuned model\n",
    "generate_responses(\n",
    "    data_dialogsum,\n",
    "    tuned_model,\n",
    "    tokenizer,\n",
    "    [4],\n",
    "    False\n",
    "  )"
   ]
  },
  {
   "cell_type": "markdown",
   "metadata": {
    "id": "z-IvnFi1QNtp"
   },
   "source": [
    "### Quantitative Comparision\n",
    "+ A method to quantitatively compare summaries is required\n",
    "+ The hugging face library provides several metrics to evaluate summaries.  \n",
    "\t+ The [Rouge Score](https://huggingface.co/spaces/evaluate-metric/rouge)- compare the generated summary to the human-generated summary and calculate a score (0-1) based on how many n-grams match\n",
    "\t+ The [BERT Score](https://huggingface.co/spaces/evaluate-metric/bertscore) - which calculates a similarity score (0-1) between the human summary and the generated summary\n",
    "+ Several functions were defined to evaluate the base and tuned models for Rouge and BERT scores\n",
    "\n",
    "+ **Steps:**\n",
    "  + Randomly select 50 examples from the test dataset (out of sample)\n",
    "  + Generate summaries for each example from each model\n",
    "  + Calculate the evaluation metrics\n",
    "  + Plot the metrics in BoxPlots to compare the median values and distribution of values\n",
    "  + The tunned model shows a improvements across all evaluation metrics\n",
    "  + The performance might be improved with hyperparameter tuning\n",
    "  + The similarity in performance could also be an indicator that the base model already does a good job of text summarization"
   ]
  },
  {
   "cell_type": "code",
   "execution_count": 165,
   "metadata": {
    "executionInfo": {
     "elapsed": 379,
     "status": "ok",
     "timestamp": 1718166796074,
     "user": {
      "displayName": "Ken Constable",
      "userId": "07550562182491091576"
     },
     "user_tz": 240
    },
    "id": "8oeXi_Ki4ImW"
   },
   "outputs": [],
   "source": [
    "def get_model_evaluations(summaries):\n",
    "  \"\"\"\n",
    "  Calculate Rouge & BERT scores for each example in the summaries dict\n",
    "  Calculate an average overall score across all metrics\n",
    "  \"\"\"\n",
    "  # extract the summaries\n",
    "  genai = [s['genai'] for s in summaries]\n",
    "  human = [s['human'] for s in summaries]\n",
    "\n",
    "  # calculate the rouge scores\n",
    "  rouge = evaluate.load('rouge')\n",
    "  r = rouge.compute(\n",
    "    predictions = genai,\n",
    "    references = human,\n",
    "    use_aggregator=False,\n",
    "    use_stemmer=True,\n",
    "    rouge_types =  ['rouge1','rouge2','rougeL']\n",
    "   )\n",
    "\n",
    "  # calculate the BERT score\n",
    "  bert = evaluate.load(\"bertscore\")\n",
    "  b = bert.compute(\n",
    "      predictions = genai,\n",
    "      references = human,\n",
    "      lang='en'\n",
    "  )['f1']\n",
    "\n",
    "  # merge dicts\n",
    "  r.update({'bert':b})\n",
    "\n",
    "  return pd.DataFrame(r)"
   ]
  },
  {
   "cell_type": "code",
   "execution_count": 166,
   "metadata": {
    "executionInfo": {
     "elapsed": 4,
     "status": "ok",
     "timestamp": 1718166798195,
     "user": {
      "displayName": "Ken Constable",
      "userId": "07550562182491091576"
     },
     "user_tz": 240
    },
    "id": "R0lSIzeaAIew"
   },
   "outputs": [],
   "source": [
    "def plot_evaluation_metrics(scores_base, scores_tuned):\n",
    "  \"\"\"Create BoxPlots for each evaluation metric to compare the base & tuned models \"\"\"\n",
    "  # add model names\n",
    "  scores_base['model'] = 'base'\n",
    "  scores_tuned['model'] = 'tuned'\n",
    "\n",
    "  # combine as a dataframe, convert to long format for plotting\n",
    "  df = pd.concat([scores_base,scores_tuned])\n",
    "  df_long = pd.melt(df, id_vars=['model'],var_name='metric',value_name='score')\n",
    "\n",
    "  # plot\n",
    "  plt.figure(figsize=(10,6))\n",
    "  plot = sns.boxplot(x=\"metric\", y=\"score\",hue=\"model\",data=df_long)\n",
    "  plot.set(title = \"Evaluation Metrics: Base model vs Fine Tuned Model\")"
   ]
  },
  {
   "cell_type": "code",
   "execution_count": 172,
   "metadata": {
    "colab": {
     "base_uri": "https://localhost:8080/",
     "height": 660
    },
    "executionInfo": {
     "elapsed": 129618,
     "status": "ok",
     "timestamp": 1718167334285,
     "user": {
      "displayName": "Ken Constable",
      "userId": "07550562182491091576"
     },
     "user_tz": 240
    },
    "id": "mCdpiJRF5NGm",
    "outputId": "869f6293-86a5-41c1-be50-c8029e5f202f"
   },
   "outputs": [
    {
     "name": "stderr",
     "output_type": "stream",
     "text": [
      "Token indices sequence length is longer than the specified maximum sequence length for this model (541 > 512). Running this sequence through the model will result in indexing errors\n",
      "Some weights of RobertaModel were not initialized from the model checkpoint at roberta-large and are newly initialized: ['roberta.pooler.dense.bias', 'roberta.pooler.dense.weight']\n",
      "You should probably TRAIN this model on a down-stream task to be able to use it for predictions and inference.\n",
      "Some weights of RobertaModel were not initialized from the model checkpoint at roberta-large and are newly initialized: ['roberta.pooler.dense.bias', 'roberta.pooler.dense.weight']\n",
      "You should probably TRAIN this model on a down-stream task to be able to use it for predictions and inference.\n"
     ]
    },
    {
     "data": {
      "image/png": "[encoded data removed]",
      "text/plain": [
       "<Figure size 1000x600 with 1 Axes>"
      ]
     },
     "metadata": {},
     "output_type": "display_data"
    }
   ],
   "source": [
    "# generate summaries for sample test data\n",
    "num_samples = data_dialogsum['test'].num_rows-1\n",
    "num_to_test = 50\n",
    "test_indexes = random.sample(range(num_samples),num_to_test)\n",
    "\n",
    "# get responses from each model\n",
    "summaries_base_model = generate_responses(data_dialogsum, original_model, tokenizer, test_indexes,False)\n",
    "summaries_tuned_model = generate_responses(data_dialogsum, tuned_model, tokenizer, test_indexes,False)\n",
    "\n",
    "# Evaluate the performace vs the human labels\n",
    "# base model:\n",
    "scores_base = get_model_evaluations(summaries_base_model)\n",
    "\n",
    "# tuned model\n",
    "scores_tuned = get_model_evaluations(summaries_tuned_model)\n",
    "\n",
    "# Plot Results\n",
    "plot_evaluation_metrics(scores_base, scores_tuned)\n"
   ]
  }
 ],
 "metadata": {
  "accelerator": "GPU",
  "colab": {
   "authorship_tag": "ABX9TyOpGtnaPMdBwOOtN7yEHWAv",
   "gpuType": "T4",
   "machine_shape": "hm",
   "mount_file_id": "1iEJHPslYHH9FD7tXI_FBAWGHDEUHweZ_",
   "provenance": [],
   "toc_visible": true
  },
  "kernelspec": {
   "display_name": "Python 3",
   "name": "python3"
  },
  "language_info": {
   "name": "python"
  },
  "widgets": {
   "application/vnd.jupyter.widget-state+json": {
    "361cffa47b654196a111a9a5da715753": {
     "model_module": "@jupyter-widgets/base",
     "model_module_version": "1.2.0",
     "model_name": "LayoutModel",
     "state": {
      "_model_module": "@jupyter-widgets/base",
      "_model_module_version": "1.2.0",
      "_model_name": "LayoutModel",
      "_view_count": null,
      "_view_module": "@jupyter-widgets/base",
      "_view_module_version": "1.2.0",
      "_view_name": "LayoutView",
      "align_content": null,
      "align_items": null,
      "align_self": null,
      "border": null,
      "bottom": null,
      "display": null,
      "flex": null,
      "flex_flow": null,
      "grid_area": null,
      "grid_auto_columns": null,
      "grid_auto_flow": null,
      "grid_auto_rows": null,
      "grid_column": null,
      "grid_gap": null,
      "grid_row": null,
      "grid_template_areas": null,
      "grid_template_columns": null,
      "grid_template_rows": null,
      "height": null,
      "justify_content": null,
      "justify_items": null,
      "left": null,
      "margin": null,
      "max_height": null,
      "max_width": null,
      "min_height": null,
      "min_width": null,
      "object_fit": null,
      "object_position": null,
      "order": null,
      "overflow": null,
      "overflow_x": null,
      "overflow_y": null,
      "padding": null,
      "right": null,
      "top": null,
      "visibility": null,
      "width": null
     }
    },
    "632a7e4ab1244b9abe6c49fa7061a738": {
     "model_module": "@jupyter-widgets/controls",
     "model_module_version": "1.5.0",
     "model_name": "HTMLModel",
     "state": {
      "_dom_classes": [],
      "_model_module": "@jupyter-widgets/controls",
      "_model_module_version": "1.5.0",
      "_model_name": "HTMLModel",
      "_view_count": null,
      "_view_module": "@jupyter-widgets/controls",
      "_view_module_version": "1.5.0",
      "_view_name": "HTMLView",
      "description": "",
      "description_tooltip": null,
      "layout": "IPY_MODEL_954b09bc8ca4433a90774264feadf7c8",
      "placeholder": "​",
      "style": "IPY_MODEL_afa6b67ad55444c796c11f9b6ed1616c",
      "value": " 500/500 [00:00&lt;00:00, 1607.83 examples/s]"
     }
    },
    "68d83ec281744c5a875ac5eb1d67a791": {
     "model_module": "@jupyter-widgets/controls",
     "model_module_version": "1.5.0",
     "model_name": "DescriptionStyleModel",
     "state": {
      "_model_module": "@jupyter-widgets/controls",
      "_model_module_version": "1.5.0",
      "_model_name": "DescriptionStyleModel",
      "_view_count": null,
      "_view_module": "@jupyter-widgets/base",
      "_view_module_version": "1.2.0",
      "_view_name": "StyleView",
      "description_width": ""
     }
    },
    "8219022832ad42dea149ff4251be3a23": {
     "model_module": "@jupyter-widgets/controls",
     "model_module_version": "1.5.0",
     "model_name": "HBoxModel",
     "state": {
      "_dom_classes": [],
      "_model_module": "@jupyter-widgets/controls",
      "_model_module_version": "1.5.0",
      "_model_name": "HBoxModel",
      "_view_count": null,
      "_view_module": "@jupyter-widgets/controls",
      "_view_module_version": "1.5.0",
      "_view_name": "HBoxView",
      "box_style": "",
      "children": [
       "IPY_MODEL_999aa1e258fc40349c662ee0d6ff1ce7",
       "IPY_MODEL_eeb92ee9d9a24790a8774c87703add22",
       "IPY_MODEL_632a7e4ab1244b9abe6c49fa7061a738"
      ],
      "layout": "IPY_MODEL_88cf0f4f5bcf452f9ae085955e4f892b"
     }
    },
    "88cf0f4f5bcf452f9ae085955e4f892b": {
     "model_module": "@jupyter-widgets/base",
     "model_module_version": "1.2.0",
     "model_name": "LayoutModel",
     "state": {
      "_model_module": "@jupyter-widgets/base",
      "_model_module_version": "1.2.0",
      "_model_name": "LayoutModel",
      "_view_count": null,
      "_view_module": "@jupyter-widgets/base",
      "_view_module_version": "1.2.0",
      "_view_name": "LayoutView",
      "align_content": null,
      "align_items": null,
      "align_self": null,
      "border": null,
      "bottom": null,
      "display": null,
      "flex": null,
      "flex_flow": null,
      "grid_area": null,
      "grid_auto_columns": null,
      "grid_auto_flow": null,
      "grid_auto_rows": null,
      "grid_column": null,
      "grid_gap": null,
      "grid_row": null,
      "grid_template_areas": null,
      "grid_template_columns": null,
      "grid_template_rows": null,
      "height": null,
      "justify_content": null,
      "justify_items": null,
      "left": null,
      "margin": null,
      "max_height": null,
      "max_width": null,
      "min_height": null,
      "min_width": null,
      "object_fit": null,
      "object_position": null,
      "order": null,
      "overflow": null,
      "overflow_x": null,
      "overflow_y": null,
      "padding": null,
      "right": null,
      "top": null,
      "visibility": null,
      "width": null
     }
    },
    "954b09bc8ca4433a90774264feadf7c8": {
     "model_module": "@jupyter-widgets/base",
     "model_module_version": "1.2.0",
     "model_name": "LayoutModel",
     "state": {
      "_model_module": "@jupyter-widgets/base",
      "_model_module_version": "1.2.0",
      "_model_name": "LayoutModel",
      "_view_count": null,
      "_view_module": "@jupyter-widgets/base",
      "_view_module_version": "1.2.0",
      "_view_name": "LayoutView",
      "align_content": null,
      "align_items": null,
      "align_self": null,
      "border": null,
      "bottom": null,
      "display": null,
      "flex": null,
      "flex_flow": null,
      "grid_area": null,
      "grid_auto_columns": null,
      "grid_auto_flow": null,
      "grid_auto_rows": null,
      "grid_column": null,
      "grid_gap": null,
      "grid_row": null,
      "grid_template_areas": null,
      "grid_template_columns": null,
      "grid_template_rows": null,
      "height": null,
      "justify_content": null,
      "justify_items": null,
      "left": null,
      "margin": null,
      "max_height": null,
      "max_width": null,
      "min_height": null,
      "min_width": null,
      "object_fit": null,
      "object_position": null,
      "order": null,
      "overflow": null,
      "overflow_x": null,
      "overflow_y": null,
      "padding": null,
      "right": null,
      "top": null,
      "visibility": null,
      "width": null
     }
    },
    "999aa1e258fc40349c662ee0d6ff1ce7": {
     "model_module": "@jupyter-widgets/controls",
     "model_module_version": "1.5.0",
     "model_name": "HTMLModel",
     "state": {
      "_dom_classes": [],
      "_model_module": "@jupyter-widgets/controls",
      "_model_module_version": "1.5.0",
      "_model_name": "HTMLModel",
      "_view_count": null,
      "_view_module": "@jupyter-widgets/controls",
      "_view_module_version": "1.5.0",
      "_view_name": "HTMLView",
      "description": "",
      "description_tooltip": null,
      "layout": "IPY_MODEL_361cffa47b654196a111a9a5da715753",
      "placeholder": "​",
      "style": "IPY_MODEL_68d83ec281744c5a875ac5eb1d67a791",
      "value": "Map: 100%"
     }
    },
    "afa6b67ad55444c796c11f9b6ed1616c": {
     "model_module": "@jupyter-widgets/controls",
     "model_module_version": "1.5.0",
     "model_name": "DescriptionStyleModel",
     "state": {
      "_model_module": "@jupyter-widgets/controls",
      "_model_module_version": "1.5.0",
      "_model_name": "DescriptionStyleModel",
      "_view_count": null,
      "_view_module": "@jupyter-widgets/base",
      "_view_module_version": "1.2.0",
      "_view_name": "StyleView",
      "description_width": ""
     }
    },
    "b5eb7122efdf4d47acab36a11402498b": {
     "model_module": "@jupyter-widgets/base",
     "model_module_version": "1.2.0",
     "model_name": "LayoutModel",
     "state": {
      "_model_module": "@jupyter-widgets/base",
      "_model_module_version": "1.2.0",
      "_model_name": "LayoutModel",
      "_view_count": null,
      "_view_module": "@jupyter-widgets/base",
      "_view_module_version": "1.2.0",
      "_view_name": "LayoutView",
      "align_content": null,
      "align_items": null,
      "align_self": null,
      "border": null,
      "bottom": null,
      "display": null,
      "flex": null,
      "flex_flow": null,
      "grid_area": null,
      "grid_auto_columns": null,
      "grid_auto_flow": null,
      "grid_auto_rows": null,
      "grid_column": null,
      "grid_gap": null,
      "grid_row": null,
      "grid_template_areas": null,
      "grid_template_columns": null,
      "grid_template_rows": null,
      "height": null,
      "justify_content": null,
      "justify_items": null,
      "left": null,
      "margin": null,
      "max_height": null,
      "max_width": null,
      "min_height": null,
      "min_width": null,
      "object_fit": null,
      "object_position": null,
      "order": null,
      "overflow": null,
      "overflow_x": null,
      "overflow_y": null,
      "padding": null,
      "right": null,
      "top": null,
      "visibility": null,
      "width": null
     }
    },
    "eeb92ee9d9a24790a8774c87703add22": {
     "model_module": "@jupyter-widgets/controls",
     "model_module_version": "1.5.0",
     "model_name": "FloatProgressModel",
     "state": {
      "_dom_classes": [],
      "_model_module": "@jupyter-widgets/controls",
      "_model_module_version": "1.5.0",
      "_model_name": "FloatProgressModel",
      "_view_count": null,
      "_view_module": "@jupyter-widgets/controls",
      "_view_module_version": "1.5.0",
      "_view_name": "ProgressView",
      "bar_style": "success",
      "description": "",
      "description_tooltip": null,
      "layout": "IPY_MODEL_b5eb7122efdf4d47acab36a11402498b",
      "max": 500,
      "min": 0,
      "orientation": "horizontal",
      "style": "IPY_MODEL_ef8d47c0ce48449586cfb3bdb8c705ac",
      "value": 500
     }
    },
    "ef8d47c0ce48449586cfb3bdb8c705ac": {
     "model_module": "@jupyter-widgets/controls",
     "model_module_version": "1.5.0",
     "model_name": "ProgressStyleModel",
     "state": {
      "_model_module": "@jupyter-widgets/controls",
      "_model_module_version": "1.5.0",
      "_model_name": "ProgressStyleModel",
      "_view_count": null,
      "_view_module": "@jupyter-widgets/base",
      "_view_module_version": "1.2.0",
      "_view_name": "StyleView",
      "bar_color": null,
      "description_width": ""
     }
    }
   }
  }
 },
 "nbformat": 4,
 "nbformat_minor": 0
}
